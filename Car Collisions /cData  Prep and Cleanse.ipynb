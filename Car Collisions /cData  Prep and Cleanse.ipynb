{
 "cells": [
  {
   "cell_type": "code",
   "execution_count": 25,
   "metadata": {},
   "outputs": [],
   "source": [
    "import pandas as pd \n",
    "data = pd.read_csv(r'/Users/kolbywilliams/Downloads/Data-Collisions.csv')"
   ]
  },
  {
   "cell_type": "code",
   "execution_count": 26,
   "metadata": {},
   "outputs": [
    {
     "output_type": "stream",
     "name": "stdout",
     "text": [
      "<class 'pandas.core.frame.DataFrame'>\nRangeIndex: 194673 entries, 0 to 194672\nData columns (total 15 columns):\n #   Column         Non-Null Count   Dtype \n---  ------         --------------   ----- \n 0   SEVERITYCODE   194673 non-null  int64 \n 1   ADDRTYPE       192747 non-null  object\n 2   LOCATION       191996 non-null  object\n 3   COLLISIONTYPE  189769 non-null  object\n 4   PERSONCOUNT    194673 non-null  int64 \n 5   PEDCOUNT       194673 non-null  int64 \n 6   PEDCYLCOUNT    194673 non-null  int64 \n 7   VEHCOUNT       194673 non-null  int64 \n 8   INCDTTM        194673 non-null  object\n 9   JUNCTIONTYPE   188344 non-null  object\n 10  UNDERINFL      189789 non-null  object\n 11  WEATHER        189592 non-null  object\n 12  ROADCOND       189661 non-null  object\n 13  LIGHTCOND      189503 non-null  object\n 14  HITPARKEDCAR   194673 non-null  object\ndtypes: int64(5), object(10)\nmemory usage: 22.3+ MB\n"
     ]
    }
   ],
   "source": [
    "#stripping data set of needless features\n",
    "neo_data=  data.drop(['X','Y','OBJECTID','INCKEY','COLDETKEY','REPORTNO','STATUS','INTKEY','EXCEPTRSNCODE','EXCEPTRSNDESC','SEVERITYCODE.1','SEVERITYDESC','SPEEDING','SDOT_COLDESC','INATTENTIONIND','PEDROWNOTGRNT','ST_COLDESC', 'SEGLANEKEY', 'CROSSWALKKEY','INCDATE','ST_COLCODE','SDOT_COLCODE','SDOTCOLNUM'],axis=1)\n",
    "neo_data.info()"
   ]
  },
  {
   "cell_type": "code",
   "execution_count": 27,
   "metadata": {},
   "outputs": [],
   "source": [
    "#replacing NaN  values\n",
    "neo_data=neo_data.fillna(0)"
   ]
  },
  {
   "cell_type": "code",
   "execution_count": 28,
   "metadata": {},
   "outputs": [
    {
     "output_type": "stream",
     "name": "stdout",
     "text": [
      "transfroms completed\n"
     ]
    }
   ],
   "source": [
    "#transfroming int64 columms into floats and date \n",
    "neo_data['SEVERITYCODE'].astype(float)\n",
    "neo_data['PEDCOUNT'].astype(float)\n",
    "neo_data['PEDCYLCOUNT'].astype(float)\n",
    "neo_data['VEHCOUNT'].astype(float)\n",
    "neo_data['INCDTTM'].astype('datetime64[ns]')\n",
    "print('transfroms completed')"
   ]
  },
  {
   "cell_type": "code",
   "execution_count": 29,
   "metadata": {},
   "outputs": [
    {
     "output_type": "stream",
     "name": "stdout",
     "text": [
      "<class 'pandas.core.frame.DataFrame'>\nRangeIndex: 194673 entries, 0 to 194672\nData columns (total 15 columns):\n #   Column         Non-Null Count   Dtype \n---  ------         --------------   ----- \n 0   SEVERITYCODE   194673 non-null  int64 \n 1   ADDRTYPE       194673 non-null  object\n 2   LOCATION       194673 non-null  object\n 3   COLLISIONTYPE  194673 non-null  object\n 4   PERSONCOUNT    194673 non-null  int64 \n 5   PEDCOUNT       194673 non-null  int64 \n 6   PEDCYLCOUNT    194673 non-null  int64 \n 7   VEHCOUNT       194673 non-null  int64 \n 8   INCDTTM        194673 non-null  object\n 9   JUNCTIONTYPE   194673 non-null  object\n 10  UNDERINFL      194673 non-null  object\n 11  WEATHER        194673 non-null  object\n 12  ROADCOND       194673 non-null  object\n 13  LIGHTCOND      194673 non-null  object\n 14  HITPARKEDCAR   194673 non-null  object\ndtypes: int64(5), object(10)\nmemory usage: 22.3+ MB\n"
     ]
    }
   ],
   "source": [
    "neo_data.info()"
   ]
  },
  {
   "cell_type": "code",
   "execution_count": 30,
   "metadata": {},
   "outputs": [],
   "source": [
    "#getting dummy data for the object data structures\n",
    "ADDRTYPEs= pd.get_dummies(neo_data['ADDRTYPE'])\n",
    "COLTYPEs= pd.get_dummies(neo_data['COLLISIONTYPE'])##\n",
    "JUCTYPEs=pd.get_dummies(neo_data['JUNCTIONTYPE'])##\n",
    "UNDERINFLs= pd.get_dummies(neo_data['UNDERINFL'])#needs edit\n",
    "WEATHERs= pd.get_dummies(neo_data['WEATHER'])##\n",
    "ROADCONDs=pd.get_dummies(neo_data['ROADCOND'])##\n",
    "LIGHTCONDs= pd.get_dummies(neo_data['LIGHTCOND'])##\n",
    "HITPARKEDCARs= pd.get_dummies(neo_data['HITPARKEDCAR'])"
   ]
  },
  {
   "cell_type": "code",
   "execution_count": 31,
   "metadata": {},
   "outputs": [
    {
     "output_type": "stream",
     "name": "stdout",
     "text": [
      "Re combinations finished\n"
     ]
    }
   ],
   "source": [
    "#adding dummy features to dataset\n",
    "#neo_data_a=pd.concat([neo_data,ADDRTYPEs,COLTYPEs,JUCTYPEs,UNDERINFLs,WEATHERs,ROADCONDs,LIGHTCONDs,HITPARKEDCARs],axis = 1)\n",
    "severity_vs_Addrs=pd.concat([neo_data['SEVERITYCODE'],ADDRTYPEs],axis=1)\n",
    "severity_vs_coltypes=pd.concat([neo_data['SEVERITYCODE'],COLTYPEs],axis=1)\n",
    "severity_vs_juctypes=pd.concat([neo_data['SEVERITYCODE'],JUCTYPEs],axis=1)\n",
    "severity_vs_drunk=pd.concat([neo_data['SEVERITYCODE'],UNDERINFLs],axis=1)\n",
    "severity_vs_weather=pd.concat([neo_data['SEVERITYCODE'],WEATHERs],axis=1)\n",
    "severity_vs_road=pd.concat([neo_data['SEVERITYCODE'],ROADCONDs],axis=1)\n",
    "severity_vs_lights=pd.concat([neo_data['SEVERITYCODE'],LIGHTCONDs],axis=1)\n",
    "severity_vs_parkedcars=pd.concat([neo_data['SEVERITYCODE'],HITPARKEDCARs],axis=1)\n",
    "print('Re combinations finished')"
   ]
  },
  {
   "cell_type": "code",
   "execution_count": null,
   "metadata": {},
   "outputs": [],
   "source": [
    " "
   ]
  }
 ],
 "metadata": {
  "kernelspec": {
   "display_name": "Python 3",
   "language": "python",
   "name": "python3"
  },
  "language_info": {
   "codemirror_mode": {
    "name": "ipython",
    "version": 3
   },
   "file_extension": ".py",
   "mimetype": "text/x-python",
   "name": "python",
   "nbconvert_exporter": "python",
   "pygments_lexer": "ipython3",
   "version": "3.7.2-final"
  }
 },
 "nbformat": 4,
 "nbformat_minor": 2
}