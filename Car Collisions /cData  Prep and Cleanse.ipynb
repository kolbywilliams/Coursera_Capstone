{
 "cells": [
  {
   "cell_type": "code",
   "execution_count": 17,
   "metadata": {},
   "outputs": [],
   "source": [
    "import pandas as pd \n",
    "data = pd.read_csv(r'/Users/kolbywilliams/Downloads/Data-Collisions.csv')"
   ]
  },
  {
   "cell_type": "code",
   "execution_count": 18,
   "metadata": {},
   "outputs": [
    {
     "output_type": "stream",
     "name": "stdout",
     "text": [
      "<class 'pandas.core.frame.DataFrame'>\nRangeIndex: 194673 entries, 0 to 194672\nData columns (total 19 columns):\n #   Column         Non-Null Count   Dtype  \n---  ------         --------------   -----  \n 0   SEVERITYCODE   194673 non-null  int64  \n 1   ADDRTYPE       192747 non-null  object \n 2   LOCATION       191996 non-null  object \n 3   COLLISIONTYPE  189769 non-null  object \n 4   PERSONCOUNT    194673 non-null  int64  \n 5   PEDCOUNT       194673 non-null  int64  \n 6   PEDCYLCOUNT    194673 non-null  int64  \n 7   VEHCOUNT       194673 non-null  int64  \n 8   INCDATE        194673 non-null  object \n 9   INCDTTM        194673 non-null  object \n 10  JUNCTIONTYPE   188344 non-null  object \n 11  SDOT_COLCODE   194673 non-null  int64  \n 12  UNDERINFL      189789 non-null  object \n 13  WEATHER        189592 non-null  object \n 14  ROADCOND       189661 non-null  object \n 15  LIGHTCOND      189503 non-null  object \n 16  SDOTCOLNUM     114936 non-null  float64\n 17  ST_COLCODE     194655 non-null  object \n 18  HITPARKEDCAR   194673 non-null  object \ndtypes: float64(1), int64(6), object(12)\nmemory usage: 28.2+ MB\n"
     ]
    }
   ],
   "source": [
    "neo_data =  data.drop(['X','Y','OBJECTID','INCKEY','COLDETKEY','REPORTNO','STATUS','INTKEY','EXCEPTRSNCODE','EXCEPTRSNDESC','SEVERITYCODE.1','SEVERITYDESC','SPEEDING','SDOT_COLDESC','INATTENTIONIND','PEDROWNOTGRNT','ST_COLDESC', 'SEGLANEKEY', 'CROSSWALKKEY'],axis=1)\n",
    "neo_data.info()"
   ]
  },
  {
   "cell_type": "code",
   "execution_count": 19,
   "metadata": {},
   "outputs": [
    {
     "output_type": "execute_result",
     "data": {
      "text/plain": [
       "Index(['SEVERITYCODE', 'ADDRTYPE', 'LOCATION', 'COLLISIONTYPE', 'PERSONCOUNT',\n",
       "       'PEDCOUNT', 'PEDCYLCOUNT', 'VEHCOUNT', 'INCDATE', 'INCDTTM',\n",
       "       'JUNCTIONTYPE', 'SDOT_COLCODE', 'UNDERINFL', 'WEATHER', 'ROADCOND',\n",
       "       'LIGHTCOND', 'SDOTCOLNUM', 'ST_COLCODE', 'HITPARKEDCAR'],\n",
       "      dtype='object')"
      ]
     },
     "metadata": {},
     "execution_count": 19
    }
   ],
   "source": [
    "neo_data.columns"
   ]
  },
  {
   "cell_type": "code",
   "execution_count": 21,
   "metadata": {},
   "outputs": [
    {
     "output_type": "execute_result",
     "data": {
      "text/plain": [
       "0         11.0\n",
       "1         16.0\n",
       "2         14.0\n",
       "3         11.0\n",
       "4         11.0\n",
       "          ... \n",
       "194668    11.0\n",
       "194669    14.0\n",
       "194670    11.0\n",
       "194671    51.0\n",
       "194672    14.0\n",
       "Name: SDOT_COLCODE, Length: 194673, dtype: float64"
      ]
     },
     "metadata": {},
     "execution_count": 21
    }
   ],
   "source": [
    "#transfroming int64 columms into floats\n",
    "neo_data['SEVERITYCODE'].astype(float)\n",
    "neo_data['PEDCOUNT'].astype(float)\n",
    "neo_data['PEDCYLCOUNT'].astype(float)\n",
    "neo_data['VEHCOUNT'].astype(float)\n",
    "neo_data['SDOT_COLCODE'].astype(float)"
   ]
  },
  {
   "cell_type": "code",
   "execution_count": 22,
   "metadata": {},
   "outputs": [],
   "source": [
    "#getting dummy data for the object data structures\n",
    "ADDRTYPEs= pd.get_dummies(neo_data['ADDRTYPE'])\n",
    "#LOCs=pd.get_dummies(neo_data['LOCATION'])\n",
    "COLTYPEs= pd.get_dummies(neo_data['COLLISIONTYPE'])\n",
    "JUCTYPEs=pd.get_dummies(neo_data['JUNCTIONTYPE'])\n",
    "UNDERINFLs= pd.get_dummies(neo_data['UNDERINFL'])\n",
    "WEATHERs= pd.get_dummies(neo_data['WEATHER'])\n",
    "ROADCONDs=pd.get_dummies(neo_data['ROADCOND'])\n",
    "LIGHTCONDs= pd.get_dummies(neo_data['LIGHTCOND'])\n",
    "ST_COLCODEs= pd.get_dummies(neo_data['ST_COLCODE'])\n",
    "HITPARKEDCARs= pd.get_dummies(neo_data['HITPARKEDCAR'])"
   ]
  },
  {
   "cell_type": "code",
   "execution_count": 10,
   "metadata": {},
   "outputs": [
    {
     "output_type": "execute_result",
     "data": {
      "text/plain": [
       "   Alley  Block  Intersection\n",
       "0      0      0             1\n",
       "1      0      1             0\n",
       "2      0      1             0\n",
       "3      0      1             0\n",
       "4      0      0             1"
      ],
      "text/html": "<div>\n<style scoped>\n    .dataframe tbody tr th:only-of-type {\n        vertical-align: middle;\n    }\n\n    .dataframe tbody tr th {\n        vertical-align: top;\n    }\n\n    .dataframe thead th {\n        text-align: right;\n    }\n</style>\n<table border=\"1\" class=\"dataframe\">\n  <thead>\n    <tr style=\"text-align: right;\">\n      <th></th>\n      <th>Alley</th>\n      <th>Block</th>\n      <th>Intersection</th>\n    </tr>\n  </thead>\n  <tbody>\n    <tr>\n      <th>0</th>\n      <td>0</td>\n      <td>0</td>\n      <td>1</td>\n    </tr>\n    <tr>\n      <th>1</th>\n      <td>0</td>\n      <td>1</td>\n      <td>0</td>\n    </tr>\n    <tr>\n      <th>2</th>\n      <td>0</td>\n      <td>1</td>\n      <td>0</td>\n    </tr>\n    <tr>\n      <th>3</th>\n      <td>0</td>\n      <td>1</td>\n      <td>0</td>\n    </tr>\n    <tr>\n      <th>4</th>\n      <td>0</td>\n      <td>0</td>\n      <td>1</td>\n    </tr>\n  </tbody>\n</table>\n</div>"
     },
     "metadata": {},
     "execution_count": 10
    }
   ],
   "source": [
    "ADDRTYPEs.head()"
   ]
  },
  {
   "cell_type": "code",
   "execution_count": 25,
   "metadata": {},
   "outputs": [],
   "source": [
    "a_data=pd.concat([neo_data,ADDRTYPEs,COLTYPEs,JUCTYPEs,UNDERINFLs,WEATHERs,ROADCONDs,LIGHTCONDs,ST_COLCODEs,HITPARKEDCARs],axis = 1)"
   ]
  },
  {
   "cell_type": "code",
   "execution_count": 27,
   "metadata": {},
   "outputs": [
    {
     "output_type": "execute_result",
     "data": {
      "text/plain": [
       "        SEVERITYCODE  PERSONCOUNT  PEDCOUNT  PEDCYLCOUNT  VEHCOUNT  \\\n",
       "0                  2            2         0            0         2   \n",
       "1                  1            2         0            0         2   \n",
       "2                  1            4         0            0         3   \n",
       "3                  1            3         0            0         3   \n",
       "4                  2            2         0            0         2   \n",
       "...              ...          ...       ...          ...       ...   \n",
       "194668             2            3         0            0         2   \n",
       "194669             1            2         0            0         2   \n",
       "194670             2            3         0            0         2   \n",
       "194671             2            2         0            1         1   \n",
       "194672             1            2         0            0         2   \n",
       "\n",
       "                       INCDATE                 INCDTTM  SDOT_COLCODE  \\\n",
       "0       2013/03/27 00:00:00+00    3/27/2013 2:54:00 PM            11   \n",
       "1       2006/12/20 00:00:00+00   12/20/2006 6:55:00 PM            16   \n",
       "2       2004/11/18 00:00:00+00  11/18/2004 10:20:00 AM            14   \n",
       "3       2013/03/29 00:00:00+00    3/29/2013 9:26:00 AM            11   \n",
       "4       2004/01/28 00:00:00+00    1/28/2004 8:04:00 AM            11   \n",
       "...                        ...                     ...           ...   \n",
       "194668  2018/11/12 00:00:00+00   11/12/2018 8:12:00 AM            11   \n",
       "194669  2018/12/18 00:00:00+00   12/18/2018 9:14:00 AM            14   \n",
       "194670  2019/01/19 00:00:00+00    1/19/2019 9:25:00 AM            11   \n",
       "194671  2019/01/15 00:00:00+00    1/15/2019 4:48:00 PM            51   \n",
       "194672  2018/11/30 00:00:00+00   11/30/2018 3:45:00 PM            14   \n",
       "\n",
       "        SDOTCOLNUM  Alley  ...  8  81  82  83  84  85  87  88  N  Y  \n",
       "0              NaN      0  ...  0   0   0   0   0   0   0   0  1  0  \n",
       "1        6354039.0      0  ...  0   0   0   0   0   0   0   0  1  0  \n",
       "2        4323031.0      0  ...  0   0   0   0   0   0   0   0  1  0  \n",
       "3              NaN      0  ...  0   0   0   0   0   0   0   0  1  0  \n",
       "4        4028032.0      0  ...  0   0   0   0   0   0   0   0  1  0  \n",
       "...            ...    ...  ... ..  ..  ..  ..  ..  ..  ..  .. .. ..  \n",
       "194668         NaN      0  ...  0   0   0   0   0   0   0   0  1  0  \n",
       "194669         NaN      0  ...  0   0   0   0   0   0   0   0  1  0  \n",
       "194670         NaN      0  ...  0   0   0   0   0   0   0   0  1  0  \n",
       "194671         NaN      0  ...  0   0   0   0   0   0   0   0  1  0  \n",
       "194672         NaN      0  ...  0   0   0   0   0   0   0   0  1  0  \n",
       "\n",
       "[194673 rows x 179 columns]"
      ],
      "text/html": "<div>\n<style scoped>\n    .dataframe tbody tr th:only-of-type {\n        vertical-align: middle;\n    }\n\n    .dataframe tbody tr th {\n        vertical-align: top;\n    }\n\n    .dataframe thead th {\n        text-align: right;\n    }\n</style>\n<table border=\"1\" class=\"dataframe\">\n  <thead>\n    <tr style=\"text-align: right;\">\n      <th></th>\n      <th>SEVERITYCODE</th>\n      <th>PERSONCOUNT</th>\n      <th>PEDCOUNT</th>\n      <th>PEDCYLCOUNT</th>\n      <th>VEHCOUNT</th>\n      <th>INCDATE</th>\n      <th>INCDTTM</th>\n      <th>SDOT_COLCODE</th>\n      <th>SDOTCOLNUM</th>\n      <th>Alley</th>\n      <th>...</th>\n      <th>8</th>\n      <th>81</th>\n      <th>82</th>\n      <th>83</th>\n      <th>84</th>\n      <th>85</th>\n      <th>87</th>\n      <th>88</th>\n      <th>N</th>\n      <th>Y</th>\n    </tr>\n  </thead>\n  <tbody>\n    <tr>\n      <th>0</th>\n      <td>2</td>\n      <td>2</td>\n      <td>0</td>\n      <td>0</td>\n      <td>2</td>\n      <td>2013/03/27 00:00:00+00</td>\n      <td>3/27/2013 2:54:00 PM</td>\n      <td>11</td>\n      <td>NaN</td>\n      <td>0</td>\n      <td>...</td>\n      <td>0</td>\n      <td>0</td>\n      <td>0</td>\n      <td>0</td>\n      <td>0</td>\n      <td>0</td>\n      <td>0</td>\n      <td>0</td>\n      <td>1</td>\n      <td>0</td>\n    </tr>\n    <tr>\n      <th>1</th>\n      <td>1</td>\n      <td>2</td>\n      <td>0</td>\n      <td>0</td>\n      <td>2</td>\n      <td>2006/12/20 00:00:00+00</td>\n      <td>12/20/2006 6:55:00 PM</td>\n      <td>16</td>\n      <td>6354039.0</td>\n      <td>0</td>\n      <td>...</td>\n      <td>0</td>\n      <td>0</td>\n      <td>0</td>\n      <td>0</td>\n      <td>0</td>\n      <td>0</td>\n      <td>0</td>\n      <td>0</td>\n      <td>1</td>\n      <td>0</td>\n    </tr>\n    <tr>\n      <th>2</th>\n      <td>1</td>\n      <td>4</td>\n      <td>0</td>\n      <td>0</td>\n      <td>3</td>\n      <td>2004/11/18 00:00:00+00</td>\n      <td>11/18/2004 10:20:00 AM</td>\n      <td>14</td>\n      <td>4323031.0</td>\n      <td>0</td>\n      <td>...</td>\n      <td>0</td>\n      <td>0</td>\n      <td>0</td>\n      <td>0</td>\n      <td>0</td>\n      <td>0</td>\n      <td>0</td>\n      <td>0</td>\n      <td>1</td>\n      <td>0</td>\n    </tr>\n    <tr>\n      <th>3</th>\n      <td>1</td>\n      <td>3</td>\n      <td>0</td>\n      <td>0</td>\n      <td>3</td>\n      <td>2013/03/29 00:00:00+00</td>\n      <td>3/29/2013 9:26:00 AM</td>\n      <td>11</td>\n      <td>NaN</td>\n      <td>0</td>\n      <td>...</td>\n      <td>0</td>\n      <td>0</td>\n      <td>0</td>\n      <td>0</td>\n      <td>0</td>\n      <td>0</td>\n      <td>0</td>\n      <td>0</td>\n      <td>1</td>\n      <td>0</td>\n    </tr>\n    <tr>\n      <th>4</th>\n      <td>2</td>\n      <td>2</td>\n      <td>0</td>\n      <td>0</td>\n      <td>2</td>\n      <td>2004/01/28 00:00:00+00</td>\n      <td>1/28/2004 8:04:00 AM</td>\n      <td>11</td>\n      <td>4028032.0</td>\n      <td>0</td>\n      <td>...</td>\n      <td>0</td>\n      <td>0</td>\n      <td>0</td>\n      <td>0</td>\n      <td>0</td>\n      <td>0</td>\n      <td>0</td>\n      <td>0</td>\n      <td>1</td>\n      <td>0</td>\n    </tr>\n    <tr>\n      <th>...</th>\n      <td>...</td>\n      <td>...</td>\n      <td>...</td>\n      <td>...</td>\n      <td>...</td>\n      <td>...</td>\n      <td>...</td>\n      <td>...</td>\n      <td>...</td>\n      <td>...</td>\n      <td>...</td>\n      <td>...</td>\n      <td>...</td>\n      <td>...</td>\n      <td>...</td>\n      <td>...</td>\n      <td>...</td>\n      <td>...</td>\n      <td>...</td>\n      <td>...</td>\n      <td>...</td>\n    </tr>\n    <tr>\n      <th>194668</th>\n      <td>2</td>\n      <td>3</td>\n      <td>0</td>\n      <td>0</td>\n      <td>2</td>\n      <td>2018/11/12 00:00:00+00</td>\n      <td>11/12/2018 8:12:00 AM</td>\n      <td>11</td>\n      <td>NaN</td>\n      <td>0</td>\n      <td>...</td>\n      <td>0</td>\n      <td>0</td>\n      <td>0</td>\n      <td>0</td>\n      <td>0</td>\n      <td>0</td>\n      <td>0</td>\n      <td>0</td>\n      <td>1</td>\n      <td>0</td>\n    </tr>\n    <tr>\n      <th>194669</th>\n      <td>1</td>\n      <td>2</td>\n      <td>0</td>\n      <td>0</td>\n      <td>2</td>\n      <td>2018/12/18 00:00:00+00</td>\n      <td>12/18/2018 9:14:00 AM</td>\n      <td>14</td>\n      <td>NaN</td>\n      <td>0</td>\n      <td>...</td>\n      <td>0</td>\n      <td>0</td>\n      <td>0</td>\n      <td>0</td>\n      <td>0</td>\n      <td>0</td>\n      <td>0</td>\n      <td>0</td>\n      <td>1</td>\n      <td>0</td>\n    </tr>\n    <tr>\n      <th>194670</th>\n      <td>2</td>\n      <td>3</td>\n      <td>0</td>\n      <td>0</td>\n      <td>2</td>\n      <td>2019/01/19 00:00:00+00</td>\n      <td>1/19/2019 9:25:00 AM</td>\n      <td>11</td>\n      <td>NaN</td>\n      <td>0</td>\n      <td>...</td>\n      <td>0</td>\n      <td>0</td>\n      <td>0</td>\n      <td>0</td>\n      <td>0</td>\n      <td>0</td>\n      <td>0</td>\n      <td>0</td>\n      <td>1</td>\n      <td>0</td>\n    </tr>\n    <tr>\n      <th>194671</th>\n      <td>2</td>\n      <td>2</td>\n      <td>0</td>\n      <td>1</td>\n      <td>1</td>\n      <td>2019/01/15 00:00:00+00</td>\n      <td>1/15/2019 4:48:00 PM</td>\n      <td>51</td>\n      <td>NaN</td>\n      <td>0</td>\n      <td>...</td>\n      <td>0</td>\n      <td>0</td>\n      <td>0</td>\n      <td>0</td>\n      <td>0</td>\n      <td>0</td>\n      <td>0</td>\n      <td>0</td>\n      <td>1</td>\n      <td>0</td>\n    </tr>\n    <tr>\n      <th>194672</th>\n      <td>1</td>\n      <td>2</td>\n      <td>0</td>\n      <td>0</td>\n      <td>2</td>\n      <td>2018/11/30 00:00:00+00</td>\n      <td>11/30/2018 3:45:00 PM</td>\n      <td>14</td>\n      <td>NaN</td>\n      <td>0</td>\n      <td>...</td>\n      <td>0</td>\n      <td>0</td>\n      <td>0</td>\n      <td>0</td>\n      <td>0</td>\n      <td>0</td>\n      <td>0</td>\n      <td>0</td>\n      <td>1</td>\n      <td>0</td>\n    </tr>\n  </tbody>\n</table>\n<p>194673 rows × 179 columns</p>\n</div>"
     },
     "metadata": {},
     "execution_count": 27
    }
   ],
   "source": [
    "a_data.drop(['ADDRTYPE','LOCATION','COLLISIONTYPE','JUNCTIONTYPE','UNDERINFL','WEATHER','ROADCOND','LIGHTCOND','ST_COLCODE','HITPARKEDCAR'], axis=1)"
   ]
  },
  {
   "cell_type": "code",
   "execution_count": null,
   "metadata": {},
   "outputs": [],
   "source": []
  }
 ],
 "metadata": {
  "kernelspec": {
   "display_name": "Python 3",
   "language": "python",
   "name": "python3"
  },
  "language_info": {
   "codemirror_mode": {
    "name": "ipython",
    "version": 3
   },
   "file_extension": ".py",
   "mimetype": "text/x-python",
   "name": "python",
   "nbconvert_exporter": "python",
   "pygments_lexer": "ipython3",
   "version": "3.7.2-final"
  }
 },
 "nbformat": 4,
 "nbformat_minor": 2
}