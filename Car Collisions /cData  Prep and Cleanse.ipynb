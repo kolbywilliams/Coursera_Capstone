{
 "cells": [
  {
   "cell_type": "code",
   "execution_count": 69,
   "metadata": {},
   "outputs": [],
   "source": [
    "import pandas as pd \n",
    "data = pd.read_csv(r'/Users/kolbywilliams/Downloads/Data-Collisions.csv')"
   ]
  },
  {
   "cell_type": "code",
   "execution_count": 70,
   "metadata": {},
   "outputs": [
    {
     "output_type": "stream",
     "name": "stdout",
     "text": [
      "<class 'pandas.core.frame.DataFrame'>\nRangeIndex: 194673 entries, 0 to 194672\nData columns (total 15 columns):\n #   Column         Non-Null Count   Dtype \n---  ------         --------------   ----- \n 0   SEVERITYCODE   194673 non-null  int64 \n 1   ADDRTYPE       192747 non-null  object\n 2   LOCATION       191996 non-null  object\n 3   COLLISIONTYPE  189769 non-null  object\n 4   PERSONCOUNT    194673 non-null  int64 \n 5   PEDCOUNT       194673 non-null  int64 \n 6   PEDCYLCOUNT    194673 non-null  int64 \n 7   VEHCOUNT       194673 non-null  int64 \n 8   INCDTTM        194673 non-null  object\n 9   JUNCTIONTYPE   188344 non-null  object\n 10  UNDERINFL      189789 non-null  object\n 11  WEATHER        189592 non-null  object\n 12  ROADCOND       189661 non-null  object\n 13  LIGHTCOND      189503 non-null  object\n 14  HITPARKEDCAR   194673 non-null  object\ndtypes: int64(5), object(10)\nmemory usage: 22.3+ MB\n"
     ]
    }
   ],
   "source": [
    "#stripping data set of needless features\n",
    "neo_data=  data.drop(['X','Y','OBJECTID','INCKEY','COLDETKEY','REPORTNO','STATUS','INTKEY','EXCEPTRSNCODE','EXCEPTRSNDESC','SEVERITYCODE.1','SEVERITYDESC','SPEEDING','SDOT_COLDESC','INATTENTIONIND','PEDROWNOTGRNT','ST_COLDESC', 'SEGLANEKEY', 'CROSSWALKKEY','INCDATE','ST_COLCODE','SDOT_COLCODE','SDOTCOLNUM'],axis=1)\n",
    "neo_data.info()"
   ]
  },
  {
   "cell_type": "code",
   "execution_count": 71,
   "metadata": {},
   "outputs": [],
   "source": [
    "#replacing NaN  values\n",
    "neo_data=neo_data.fillna(0)"
   ]
  },
  {
   "cell_type": "code",
   "execution_count": 72,
   "metadata": {},
   "outputs": [
    {
     "output_type": "stream",
     "name": "stdout",
     "text": [
      "transfroms completed\n"
     ]
    }
   ],
   "source": [
    "#transfroming int64 columms into floats and date \n",
    "neo_data['SEVERITYCODE'].astype(float)\n",
    "neo_data['PEDCOUNT'].astype(float)\n",
    "neo_data['PEDCYLCOUNT'].astype(float)\n",
    "neo_data['VEHCOUNT'].astype(float)\n",
    "neo_data['INCDTTM'].astype('datetime64[ns]')\n",
    "print('transfroms completed')"
   ]
  },
  {
   "cell_type": "code",
   "execution_count": 73,
   "metadata": {},
   "outputs": [
    {
     "output_type": "stream",
     "name": "stdout",
     "text": [
      "<class 'pandas.core.frame.DataFrame'>\nRangeIndex: 194673 entries, 0 to 194672\nData columns (total 15 columns):\n #   Column         Non-Null Count   Dtype \n---  ------         --------------   ----- \n 0   SEVERITYCODE   194673 non-null  int64 \n 1   ADDRTYPE       194673 non-null  object\n 2   LOCATION       194673 non-null  object\n 3   COLLISIONTYPE  194673 non-null  object\n 4   PERSONCOUNT    194673 non-null  int64 \n 5   PEDCOUNT       194673 non-null  int64 \n 6   PEDCYLCOUNT    194673 non-null  int64 \n 7   VEHCOUNT       194673 non-null  int64 \n 8   INCDTTM        194673 non-null  object\n 9   JUNCTIONTYPE   194673 non-null  object\n 10  UNDERINFL      194673 non-null  object\n 11  WEATHER        194673 non-null  object\n 12  ROADCOND       194673 non-null  object\n 13  LIGHTCOND      194673 non-null  object\n 14  HITPARKEDCAR   194673 non-null  object\ndtypes: int64(5), object(10)\nmemory usage: 22.3+ MB\n"
     ]
    }
   ],
   "source": [
    "neo_data.info()"
   ]
  },
  {
   "cell_type": "code",
   "execution_count": 74,
   "metadata": {},
   "outputs": [],
   "source": [
    "#getting dummy data for the object data structures\n",
    "ADDRTYPEs= pd.get_dummies(neo_data['ADDRTYPE'])\n",
    "COLTYPEs= pd.get_dummies(neo_data['COLLISIONTYPE'])##\n",
    "JUCTYPEs=pd.get_dummies(neo_data['JUNCTIONTYPE'])##\n",
    "UNDERINFLs= pd.get_dummies(neo_data['UNDERINFL'])#needs edit\n",
    "WEATHERs= pd.get_dummies(neo_data['WEATHER'])##\n",
    "ROADCONDs=pd.get_dummies(neo_data['ROADCOND'])##\n",
    "LIGHTCONDs= pd.get_dummies(neo_data['LIGHTCOND'])##\n",
    "HITPARKEDCARs= pd.get_dummies(neo_data['HITPARKEDCAR'])"
   ]
  },
  {
   "cell_type": "code",
   "execution_count": 75,
   "metadata": {},
   "outputs": [],
   "source": [
    "#adding dummy features to dataset\n",
    "neo_data_a=pd.concat([neo_data,ADDRTYPEs,COLTYPEs,JUCTYPEs,UNDERINFLs,WEATHERs,ROADCONDs,LIGHTCONDs,HITPARKEDCARs],axis = 1)\n",
    "#neo_data_b\n",
    "#neo_data_c"
   ]
  },
  {
   "cell_type": "code",
   "execution_count": 76,
   "metadata": {},
   "outputs": [],
   "source": [
    "#Dropping redunant feautures after concat \n",
    "neo_data_b = neo_data_a.drop(['ADDRTYPE','LOCATION','COLLISIONTYPE','JUNCTIONTYPE','UNDERINFL','WEATHER','ROADCOND','LIGHTCOND','HITPARKEDCAR'], axis= 1)"
   ]
  },
  {
   "cell_type": "code",
   "execution_count": 77,
   "metadata": {},
   "outputs": [
    {
     "output_type": "stream",
     "name": "stdout",
     "text": [
      "<class 'pandas.core.frame.DataFrame'>\nRangeIndex: 194673 entries, 0 to 194672\nData columns (total 68 columns):\n #   Column                                             Non-Null Count   Dtype \n---  ------                                             --------------   ----- \n 0   SEVERITYCODE                                       194673 non-null  int64 \n 1   PERSONCOUNT                                        194673 non-null  int64 \n 2   PEDCOUNT                                           194673 non-null  int64 \n 3   PEDCYLCOUNT                                        194673 non-null  int64 \n 4   VEHCOUNT                                           194673 non-null  int64 \n 5   INCDTTM                                            194673 non-null  object\n 6   0                                                  194673 non-null  uint8 \n 7   Alley                                              194673 non-null  uint8 \n 8   Block                                              194673 non-null  uint8 \n 9   Intersection                                       194673 non-null  uint8 \n 10  0                                                  194673 non-null  uint8 \n 11  Angles                                             194673 non-null  uint8 \n 12  Cycles                                             194673 non-null  uint8 \n 13  Head On                                            194673 non-null  uint8 \n 14  Left Turn                                          194673 non-null  uint8 \n 15  Other                                              194673 non-null  uint8 \n 16  Parked Car                                         194673 non-null  uint8 \n 17  Pedestrian                                         194673 non-null  uint8 \n 18  Rear Ended                                         194673 non-null  uint8 \n 19  Right Turn                                         194673 non-null  uint8 \n 20  Sideswipe                                          194673 non-null  uint8 \n 21  0                                                  194673 non-null  uint8 \n 22  At Intersection (but not related to intersection)  194673 non-null  uint8 \n 23  At Intersection (intersection related)             194673 non-null  uint8 \n 24  Driveway Junction                                  194673 non-null  uint8 \n 25  Mid-Block (but intersection related)               194673 non-null  uint8 \n 26  Mid-Block (not related to intersection)            194673 non-null  uint8 \n 27  Ramp Junction                                      194673 non-null  uint8 \n 28  Unknown                                            194673 non-null  uint8 \n 29  0                                                  194673 non-null  uint8 \n 30  0                                                  194673 non-null  uint8 \n 31  1                                                  194673 non-null  uint8 \n 32  N                                                  194673 non-null  uint8 \n 33  Y                                                  194673 non-null  uint8 \n 34  0                                                  194673 non-null  uint8 \n 35  Blowing Sand/Dirt                                  194673 non-null  uint8 \n 36  Clear                                              194673 non-null  uint8 \n 37  Fog/Smog/Smoke                                     194673 non-null  uint8 \n 38  Other                                              194673 non-null  uint8 \n 39  Overcast                                           194673 non-null  uint8 \n 40  Partly Cloudy                                      194673 non-null  uint8 \n 41  Raining                                            194673 non-null  uint8 \n 42  Severe Crosswind                                   194673 non-null  uint8 \n 43  Sleet/Hail/Freezing Rain                           194673 non-null  uint8 \n 44  Snowing                                            194673 non-null  uint8 \n 45  Unknown                                            194673 non-null  uint8 \n 46  0                                                  194673 non-null  uint8 \n 47  Dry                                                194673 non-null  uint8 \n 48  Ice                                                194673 non-null  uint8 \n 49  Oil                                                194673 non-null  uint8 \n 50  Other                                              194673 non-null  uint8 \n 51  Sand/Mud/Dirt                                      194673 non-null  uint8 \n 52  Snow/Slush                                         194673 non-null  uint8 \n 53  Standing Water                                     194673 non-null  uint8 \n 54  Unknown                                            194673 non-null  uint8 \n 55  Wet                                                194673 non-null  uint8 \n 56  0                                                  194673 non-null  uint8 \n 57  Dark - No Street Lights                            194673 non-null  uint8 \n 58  Dark - Street Lights Off                           194673 non-null  uint8 \n 59  Dark - Street Lights On                            194673 non-null  uint8 \n 60  Dark - Unknown Lighting                            194673 non-null  uint8 \n 61  Dawn                                               194673 non-null  uint8 \n 62  Daylight                                           194673 non-null  uint8 \n 63  Dusk                                               194673 non-null  uint8 \n 64  Other                                              194673 non-null  uint8 \n 65  Unknown                                            194673 non-null  uint8 \n 66  N                                                  194673 non-null  uint8 \n 67  Y                                                  194673 non-null  uint8 \ndtypes: int64(5), object(1), uint8(62)\nmemory usage: 20.4+ MB\n"
     ]
    }
   ],
   "source": [
    "neo_data_b.info()"
   ]
  },
  {
   "cell_type": "code",
   "execution_count": 78,
   "metadata": {},
   "outputs": [
    {
     "output_type": "execute_result",
     "data": {
      "text/plain": [
       "                 count      mean       std  min  25%  50%  75%   max\n",
       "SEVERITYCODE  194673.0  1.298901  0.457778  1.0  1.0  1.0  2.0   2.0\n",
       "PERSONCOUNT   194673.0  2.444427  1.345929  0.0  2.0  2.0  3.0  81.0\n",
       "PEDCOUNT      194673.0  0.037139  0.198150  0.0  0.0  0.0  0.0   6.0\n",
       "PEDCYLCOUNT   194673.0  0.028391  0.167413  0.0  0.0  0.0  0.0   2.0\n",
       "VEHCOUNT      194673.0  1.920780  0.631047  0.0  2.0  2.0  2.0  12.0\n",
       "...                ...       ...       ...  ...  ...  ...  ...   ...\n",
       "Dusk          194673.0  0.030318  0.171460  0.0  0.0  0.0  0.0   1.0\n",
       "Other         194673.0  0.001207  0.034723  0.0  0.0  0.0  0.0   1.0\n",
       "Unknown       194673.0  0.069208  0.253809  0.0  0.0  0.0  0.0   1.0\n",
       "N             194673.0  0.962933  0.188927  0.0  1.0  1.0  1.0   1.0\n",
       "Y             194673.0  0.037067  0.188927  0.0  0.0  0.0  0.0   1.0\n",
       "\n",
       "[67 rows x 8 columns]"
      ],
      "text/html": "<div>\n<style scoped>\n    .dataframe tbody tr th:only-of-type {\n        vertical-align: middle;\n    }\n\n    .dataframe tbody tr th {\n        vertical-align: top;\n    }\n\n    .dataframe thead th {\n        text-align: right;\n    }\n</style>\n<table border=\"1\" class=\"dataframe\">\n  <thead>\n    <tr style=\"text-align: right;\">\n      <th></th>\n      <th>count</th>\n      <th>mean</th>\n      <th>std</th>\n      <th>min</th>\n      <th>25%</th>\n      <th>50%</th>\n      <th>75%</th>\n      <th>max</th>\n    </tr>\n  </thead>\n  <tbody>\n    <tr>\n      <th>SEVERITYCODE</th>\n      <td>194673.0</td>\n      <td>1.298901</td>\n      <td>0.457778</td>\n      <td>1.0</td>\n      <td>1.0</td>\n      <td>1.0</td>\n      <td>2.0</td>\n      <td>2.0</td>\n    </tr>\n    <tr>\n      <th>PERSONCOUNT</th>\n      <td>194673.0</td>\n      <td>2.444427</td>\n      <td>1.345929</td>\n      <td>0.0</td>\n      <td>2.0</td>\n      <td>2.0</td>\n      <td>3.0</td>\n      <td>81.0</td>\n    </tr>\n    <tr>\n      <th>PEDCOUNT</th>\n      <td>194673.0</td>\n      <td>0.037139</td>\n      <td>0.198150</td>\n      <td>0.0</td>\n      <td>0.0</td>\n      <td>0.0</td>\n      <td>0.0</td>\n      <td>6.0</td>\n    </tr>\n    <tr>\n      <th>PEDCYLCOUNT</th>\n      <td>194673.0</td>\n      <td>0.028391</td>\n      <td>0.167413</td>\n      <td>0.0</td>\n      <td>0.0</td>\n      <td>0.0</td>\n      <td>0.0</td>\n      <td>2.0</td>\n    </tr>\n    <tr>\n      <th>VEHCOUNT</th>\n      <td>194673.0</td>\n      <td>1.920780</td>\n      <td>0.631047</td>\n      <td>0.0</td>\n      <td>2.0</td>\n      <td>2.0</td>\n      <td>2.0</td>\n      <td>12.0</td>\n    </tr>\n    <tr>\n      <th>...</th>\n      <td>...</td>\n      <td>...</td>\n      <td>...</td>\n      <td>...</td>\n      <td>...</td>\n      <td>...</td>\n      <td>...</td>\n      <td>...</td>\n    </tr>\n    <tr>\n      <th>Dusk</th>\n      <td>194673.0</td>\n      <td>0.030318</td>\n      <td>0.171460</td>\n      <td>0.0</td>\n      <td>0.0</td>\n      <td>0.0</td>\n      <td>0.0</td>\n      <td>1.0</td>\n    </tr>\n    <tr>\n      <th>Other</th>\n      <td>194673.0</td>\n      <td>0.001207</td>\n      <td>0.034723</td>\n      <td>0.0</td>\n      <td>0.0</td>\n      <td>0.0</td>\n      <td>0.0</td>\n      <td>1.0</td>\n    </tr>\n    <tr>\n      <th>Unknown</th>\n      <td>194673.0</td>\n      <td>0.069208</td>\n      <td>0.253809</td>\n      <td>0.0</td>\n      <td>0.0</td>\n      <td>0.0</td>\n      <td>0.0</td>\n      <td>1.0</td>\n    </tr>\n    <tr>\n      <th>N</th>\n      <td>194673.0</td>\n      <td>0.962933</td>\n      <td>0.188927</td>\n      <td>0.0</td>\n      <td>1.0</td>\n      <td>1.0</td>\n      <td>1.0</td>\n      <td>1.0</td>\n    </tr>\n    <tr>\n      <th>Y</th>\n      <td>194673.0</td>\n      <td>0.037067</td>\n      <td>0.188927</td>\n      <td>0.0</td>\n      <td>0.0</td>\n      <td>0.0</td>\n      <td>0.0</td>\n      <td>1.0</td>\n    </tr>\n  </tbody>\n</table>\n<p>67 rows × 8 columns</p>\n</div>"
     },
     "metadata": {},
     "execution_count": 78
    }
   ],
   "source": [
    "neo_data_b.describe().transpose()"
   ]
  },
  {
   "cell_type": "code",
   "execution_count": null,
   "metadata": {},
   "outputs": [],
   "source": []
  }
 ],
 "metadata": {
  "kernelspec": {
   "display_name": "Python 3",
   "language": "python",
   "name": "python3"
  },
  "language_info": {
   "codemirror_mode": {
    "name": "ipython",
    "version": 3
   },
   "file_extension": ".py",
   "mimetype": "text/x-python",
   "name": "python",
   "nbconvert_exporter": "python",
   "pygments_lexer": "ipython3",
   "version": "3.7.2-final"
  }
 },
 "nbformat": 4,
 "nbformat_minor": 2
}