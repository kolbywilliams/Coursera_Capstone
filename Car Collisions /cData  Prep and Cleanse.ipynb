{
 "cells": [
  {
   "cell_type": "code",
   "execution_count": 2,
   "metadata": {},
   "outputs": [],
   "source": [
    "import pandas as pd \n",
    "data = pd.read_csv(r'/Users/kolbywilliams/Downloads/Data-Collisions.csv')"
   ]
  },
  {
   "cell_type": "code",
   "execution_count": 3,
   "metadata": {},
   "outputs": [
    {
     "output_type": "stream",
     "name": "stdout",
     "text": [
      "<class 'pandas.core.frame.DataFrame'>\nRangeIndex: 194673 entries, 0 to 194672\nData columns (total 19 columns):\n #   Column         Non-Null Count   Dtype  \n---  ------         --------------   -----  \n 0   SEVERITYCODE   194673 non-null  int64  \n 1   ADDRTYPE       192747 non-null  object \n 2   LOCATION       191996 non-null  object \n 3   COLLISIONTYPE  189769 non-null  object \n 4   PERSONCOUNT    194673 non-null  int64  \n 5   PEDCOUNT       194673 non-null  int64  \n 6   PEDCYLCOUNT    194673 non-null  int64  \n 7   VEHCOUNT       194673 non-null  int64  \n 8   INCDATE        194673 non-null  object \n 9   INCDTTM        194673 non-null  object \n 10  JUNCTIONTYPE   188344 non-null  object \n 11  SDOT_COLCODE   194673 non-null  int64  \n 12  UNDERINFL      189789 non-null  object \n 13  WEATHER        189592 non-null  object \n 14  ROADCOND       189661 non-null  object \n 15  LIGHTCOND      189503 non-null  object \n 16  SDOTCOLNUM     114936 non-null  float64\n 17  ST_COLCODE     194655 non-null  object \n 18  HITPARKEDCAR   194673 non-null  object \ndtypes: float64(1), int64(6), object(12)\nmemory usage: 28.2+ MB\n"
     ]
    }
   ],
   "source": [
    "neo_data =  data.drop(['X','Y','OBJECTID','INCKEY','COLDETKEY','REPORTNO','STATUS','INTKEY','EXCEPTRSNCODE','EXCEPTRSNDESC','SEVERITYCODE.1','SEVERITYDESC','SPEEDING','SDOT_COLDESC','INATTENTIONIND','PEDROWNOTGRNT','ST_COLDESC', 'SEGLANEKEY', 'CROSSWALKKEY'],axis=1)\n",
    "neo_data.info()"
   ]
  },
  {
   "cell_type": "code",
   "execution_count": 4,
   "metadata": {},
   "outputs": [
    {
     "output_type": "execute_result",
     "data": {
      "text/plain": [
       "Index(['SEVERITYCODE', 'ADDRTYPE', 'LOCATION', 'COLLISIONTYPE', 'PERSONCOUNT',\n",
       "       'PEDCOUNT', 'PEDCYLCOUNT', 'VEHCOUNT', 'INCDATE', 'INCDTTM',\n",
       "       'JUNCTIONTYPE', 'SDOT_COLCODE', 'UNDERINFL', 'WEATHER', 'ROADCOND',\n",
       "       'LIGHTCOND', 'SDOTCOLNUM', 'ST_COLCODE', 'HITPARKEDCAR'],\n",
       "      dtype='object')"
      ]
     },
     "metadata": {},
     "execution_count": 4
    }
   ],
   "source": [
    "neo_data.columns"
   ]
  },
  {
   "cell_type": "code",
   "execution_count": 8,
   "metadata": {},
   "outputs": [
    {
     "output_type": "execute_result",
     "data": {
      "text/plain": [
       "0         11.0\n",
       "1         16.0\n",
       "2         14.0\n",
       "3         11.0\n",
       "4         11.0\n",
       "          ... \n",
       "194668    11.0\n",
       "194669    14.0\n",
       "194670    11.0\n",
       "194671    51.0\n",
       "194672    14.0\n",
       "Name: SDOT_COLCODE, Length: 194673, dtype: float64"
      ]
     },
     "metadata": {},
     "execution_count": 8
    }
   ],
   "source": [
    "#transfroming int64 columms into floats\n",
    "neo_data['SEVERITYCODE'].astype(float)\n",
    "neo_data['PEDCOUNT'].astype(float)\n",
    "neo_data['PEDCYLCOUNT'].astype(float)\n",
    "neo_data['VEHCOUNT'].astype(float)\n",
    "neo_data['SDOT_COLCODE'].astype(float)"
   ]
  },
  {
   "cell_type": "code",
   "execution_count": 9,
   "metadata": {},
   "outputs": [],
   "source": [
    "ADDRTYPEs= pd.get_dummies(neo_data['ADDRTYPE'])\n",
    "LOCs=pd.get_dummies(neo_data['LOCATION'])\n",
    "COLTYPEs= pd.get_dummies(neo_data['COLLISIONTYPE'])\n",
    "JUCTYPEs=pd.get_dummies(neo_data['JUNCTIONTYPE'])\n",
    "UNDERINFLs= pd.get_dummies(neo_data['UNDERINFL'])\n",
    "WEATHERs= pd.get_dummies(neo_data['WEATHER'])\n",
    "ROADCONDs=pd.get_dummies(neo_data['ROADCOND'])\n",
    "LIGHTCONDs= pd.get_dummies(neo_data['LIGHTCOND'])\n",
    "ST_COLCODEs= pd.get_dummies(neo_data['ST_COLCODE'])\n",
    "HITPARKEDCARs= pd.get_dummies(neo_data['HITPARKEDCAR'])"
   ]
  },
  {
   "cell_type": "code",
   "execution_count": null,
   "metadata": {},
   "outputs": [],
   "source": []
  }
 ],
 "metadata": {
  "kernelspec": {
   "display_name": "Python 3",
   "language": "python",
   "name": "python3"
  },
  "language_info": {
   "codemirror_mode": {
    "name": "ipython",
    "version": 3
   },
   "file_extension": ".py",
   "mimetype": "text/x-python",
   "name": "python",
   "nbconvert_exporter": "python",
   "pygments_lexer": "ipython3",
   "version": "3.7.2-final"
  }
 },
 "nbformat": 4,
 "nbformat_minor": 2
}