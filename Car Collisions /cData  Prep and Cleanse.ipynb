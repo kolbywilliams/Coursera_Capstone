{
 "cells": [
  {
   "cell_type": "code",
   "execution_count": 2,
   "metadata": {},
   "outputs": [],
   "source": [
    "import pandas as pd \n",
    "data = pd.read_csv(r'/Users/kolbywilliams/Downloads/Data-Collisions.csv')"
   ]
  },
  {
   "cell_type": "code",
   "execution_count": 3,
   "metadata": {},
   "outputs": [
    {
     "output_type": "stream",
     "name": "stdout",
     "text": [
      "<class 'pandas.core.frame.DataFrame'>\nRangeIndex: 194673 entries, 0 to 194672\nData columns (total 19 columns):\n #   Column         Non-Null Count   Dtype  \n---  ------         --------------   -----  \n 0   SEVERITYCODE   194673 non-null  int64  \n 1   ADDRTYPE       192747 non-null  object \n 2   LOCATION       191996 non-null  object \n 3   COLLISIONTYPE  189769 non-null  object \n 4   PERSONCOUNT    194673 non-null  int64  \n 5   PEDCOUNT       194673 non-null  int64  \n 6   PEDCYLCOUNT    194673 non-null  int64  \n 7   VEHCOUNT       194673 non-null  int64  \n 8   INCDATE        194673 non-null  object \n 9   INCDTTM        194673 non-null  object \n 10  JUNCTIONTYPE   188344 non-null  object \n 11  SDOT_COLCODE   194673 non-null  int64  \n 12  UNDERINFL      189789 non-null  object \n 13  WEATHER        189592 non-null  object \n 14  ROADCOND       189661 non-null  object \n 15  LIGHTCOND      189503 non-null  object \n 16  SDOTCOLNUM     114936 non-null  float64\n 17  ST_COLCODE     194655 non-null  object \n 18  HITPARKEDCAR   194673 non-null  object \ndtypes: float64(1), int64(6), object(12)\nmemory usage: 28.2+ MB\n"
     ]
    }
   ],
   "source": [
    "neo_data =  data.drop(['X','Y','OBJECTID','INCKEY','COLDETKEY','REPORTNO','STATUS','INTKEY','EXCEPTRSNCODE','EXCEPTRSNDESC','SEVERITYCODE.1','SEVERITYDESC','SPEEDING','SDOT_COLDESC','INATTENTIONIND','PEDROWNOTGRNT','ST_COLDESC', 'SEGLANEKEY', 'CROSSWALKKEY'],axis=1)\n",
    "neo_data.info()"
   ]
  },
  {
   "cell_type": "code",
   "execution_count": 4,
   "metadata": {},
   "outputs": [
    {
     "output_type": "execute_result",
     "data": {
      "text/plain": [
       "Index(['SEVERITYCODE', 'ADDRTYPE', 'LOCATION', 'COLLISIONTYPE', 'PERSONCOUNT',\n",
       "       'PEDCOUNT', 'PEDCYLCOUNT', 'VEHCOUNT', 'INCDATE', 'INCDTTM',\n",
       "       'JUNCTIONTYPE', 'SDOT_COLCODE', 'UNDERINFL', 'WEATHER', 'ROADCOND',\n",
       "       'LIGHTCOND', 'SDOTCOLNUM', 'ST_COLCODE', 'HITPARKEDCAR'],\n",
       "      dtype='object')"
      ]
     },
     "metadata": {},
     "execution_count": 4
    }
   ],
   "source": [
    "neo_data.columns"
   ]
  },
  {
   "cell_type": "code",
   "execution_count": 6,
   "metadata": {},
   "outputs": [
    {
     "output_type": "execute_result",
     "data": {
      "text/plain": [
       "0         2.0\n",
       "1         1.0\n",
       "2         1.0\n",
       "3         1.0\n",
       "4         2.0\n",
       "         ... \n",
       "194668    2.0\n",
       "194669    1.0\n",
       "194670    2.0\n",
       "194671    2.0\n",
       "194672    1.0\n",
       "Name: SEVERITYCODE, Length: 194673, dtype: float64"
      ]
     },
     "metadata": {},
     "execution_count": 6
    }
   ],
   "source": [
    "neo_data['SEVERITYCODE'].astype(float)"
   ]
  },
  {
   "cell_type": "code",
   "execution_count": 5,
   "metadata": {},
   "outputs": [
    {
     "name": "stdout",
     "output_type": "stream",
     "text": [
      "test\n"
     ]
    }
   ],
   "source": []
  },
  {
   "cell_type": "code",
   "execution_count": null,
   "metadata": {},
   "outputs": [],
   "source": []
  }
 ],
 "metadata": {
  "kernelspec": {
   "display_name": "Python 3",
   "language": "python",
   "name": "python3"
  },
  "language_info": {
   "codemirror_mode": {
    "name": "ipython",
    "version": 3
   },
   "file_extension": ".py",
   "mimetype": "text/x-python",
   "name": "python",
   "nbconvert_exporter": "python",
   "pygments_lexer": "ipython3",
   "version": "3.7.2-final"
  }
 },
 "nbformat": 4,
 "nbformat_minor": 2
}