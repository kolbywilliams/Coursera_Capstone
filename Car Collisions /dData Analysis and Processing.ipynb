{
 "cells": [
  {
   "cell_type": "code",
   "execution_count": 19,
   "metadata": {},
   "outputs": [
    {
     "name": "stderr",
     "output_type": "stream",
     "text": [
      "/Library/Frameworks/Python.framework/Versions/3.7/lib/python3.7/site-packages/IPython/core/interactiveshell.py:3147: DtypeWarning: Columns (33) have mixed types.Specify dtype option on import or set low_memory=False.\n",
      "  interactivity=interactivity, compiler=compiler, result=result)\n"
     ]
    }
   ],
   "source": [
    "#importing data set\n",
    "import pandas as pd \n",
    "data = pd.read_csv('/Users/kolbywilliams/Downloads/Data-Collisions.csv')"
   ]
  },
  {
   "cell_type": "code",
   "execution_count": 20,
   "metadata": {},
   "outputs": [
    {
     "name": "stdout",
     "output_type": "stream",
     "text": [
      "<class 'pandas.core.frame.DataFrame'>\n",
      "RangeIndex: 194673 entries, 0 to 194672\n",
      "Data columns (total 15 columns):\n",
      " #   Column         Non-Null Count   Dtype \n",
      "---  ------         --------------   ----- \n",
      " 0   SEVERITYCODE   194673 non-null  int64 \n",
      " 1   ADDRTYPE       192747 non-null  object\n",
      " 2   LOCATION       191996 non-null  object\n",
      " 3   COLLISIONTYPE  189769 non-null  object\n",
      " 4   PERSONCOUNT    194673 non-null  int64 \n",
      " 5   PEDCOUNT       194673 non-null  int64 \n",
      " 6   PEDCYLCOUNT    194673 non-null  int64 \n",
      " 7   VEHCOUNT       194673 non-null  int64 \n",
      " 8   INCDTTM        194673 non-null  object\n",
      " 9   JUNCTIONTYPE   188344 non-null  object\n",
      " 10  UNDERINFL      189789 non-null  object\n",
      " 11  WEATHER        189592 non-null  object\n",
      " 12  ROADCOND       189661 non-null  object\n",
      " 13  LIGHTCOND      189503 non-null  object\n",
      " 14  HITPARKEDCAR   194673 non-null  object\n",
      "dtypes: int64(5), object(10)\n",
      "memory usage: 22.3+ MB\n"
     ]
    }
   ],
   "source": [
    "#stripping data set of needless features\n",
    "neo_data=  data.drop(['X','Y','OBJECTID','INCKEY','COLDETKEY','REPORTNO','STATUS','INTKEY','EXCEPTRSNCODE','EXCEPTRSNDESC','SEVERITYCODE.1','SEVERITYDESC','SPEEDING','SDOT_COLDESC','INATTENTIONIND','PEDROWNOTGRNT','ST_COLDESC', 'SEGLANEKEY', 'CROSSWALKKEY','INCDATE','ST_COLCODE','SDOT_COLCODE','SDOTCOLNUM'],axis=1)\n",
    "neo_data.info()"
   ]
  },
  {
   "cell_type": "code",
   "execution_count": 21,
   "metadata": {},
   "outputs": [
    {
     "name": "stdout",
     "output_type": "stream",
     "text": [
      "na data has been replaced with 0\n"
     ]
    }
   ],
   "source": [
    "#replacing NaN  values\n",
    "neo_data=neo_data.fillna(0)\n",
    "print('na data has been replaced with 0')"
   ]
  },
  {
   "cell_type": "code",
   "execution_count": 22,
   "metadata": {},
   "outputs": [
    {
     "name": "stdout",
     "output_type": "stream",
     "text": [
      "transfroms completed\n"
     ]
    }
   ],
   "source": [
    "#transfroming int64 columms into floats and date \n",
    "#neo_data['SEVERITYCODE']=neo_data['SEVERITYCODE'].astype(float)\n",
    "neo_data['PERSONCOUNT']=neo_data['PERSONCOUNT'].astype(float)\n",
    "neo_data['PEDCOUNT']=neo_data['PEDCOUNT'].astype(float)\n",
    "neo_data['PEDCYLCOUNT']=neo_data['PEDCYLCOUNT'].astype(float)\n",
    "neo_data['VEHCOUNT']=neo_data['VEHCOUNT'].astype(float)\n",
    "neo_data['INCDTTM']=neo_data['INCDTTM'].astype('datetime64[ns]')\n",
    "print('transfroms completed')\n"
   ]
  },
  {
   "cell_type": "code",
   "execution_count": 23,
   "metadata": {},
   "outputs": [],
   "source": [
    "#getting dummy data for the object data structures\n",
    "ADDRTYPEs= pd.get_dummies(neo_data['ADDRTYPE'])\n",
    "COLTYPEs= pd.get_dummies(neo_data['COLLISIONTYPE'])##\n",
    "JUCTYPEs=pd.get_dummies(neo_data['JUNCTIONTYPE'])##\n",
    "UNDERINFLs= pd.get_dummies(neo_data['UNDERINFL'])#needs edit\n",
    "WEATHERs= pd.get_dummies(neo_data['WEATHER'])##\n",
    "ROADCONDs=pd.get_dummies(neo_data['ROADCOND'])##\n",
    "LIGHTCONDs= pd.get_dummies(neo_data['LIGHTCOND'])##\n",
    "HITPARKEDCARs= pd.get_dummies(neo_data['HITPARKEDCAR'])"
   ]
  },
  {
   "cell_type": "code",
   "execution_count": 24,
   "metadata": {},
   "outputs": [
    {
     "name": "stdout",
     "output_type": "stream",
     "text": [
      "Re combinations finished\n"
     ]
    }
   ],
   "source": [
    "#adding dummy features to dataset\n",
    "severity_vs_Addrs=pd.concat([neo_data['SEVERITYCODE'],ADDRTYPEs],axis=1)\n",
    "#severity_vs_coltypes=pd.concat([neo_data['SEVERITYCODE'],COLTYPEs],axis=1)\n",
    "#severity_vs_juctypes=pd.concat([neo_data['SEVERITYCODE'],JUCTYPEs],axis=1)\n",
    "severity_vs_drunk=pd.concat([neo_data['SEVERITYCODE'],UNDERINFLs],axis=1)\n",
    "#severity_vs_weather=pd.concat([neo_data['SEVERITYCODE'],WEATHERs],axis=1)\n",
    "#severity_vs_road=pd.concat([neo_data['SEVERITYCODE'],ROADCONDs],axis=1)\n",
    "#severity_vs_lights=pd.concat([neo_data['SEVERITYCODE'],LIGHTCONDs],axis=1)\n",
    "severity_vs_parkedcars=pd.concat([neo_data['SEVERITYCODE'],HITPARKEDCARs],axis=1)\n",
    "print('Re combinations finished')"
   ]
  },
  {
   "cell_type": "code",
   "execution_count": 25,
   "metadata": {},
   "outputs": [
    {
     "name": "stdout",
     "output_type": "stream",
     "text": [
      "sklearn and linear_model imported\n"
     ]
    }
   ],
   "source": [
    "from sklearn.model_selection import train_test_split as TTS\n",
    "from sklearn import linear_model as LM\n",
    "from sklearn.metrics import mean_squared_error, r2_score\n",
    "\n",
    "print('sklearn and linear_model imported')"
   ]
  },
  {
   "cell_type": "code",
   "execution_count": 31,
   "metadata": {},
   "outputs": [
    {
     "data": {
      "text/plain": [
       "1.0"
      ]
     },
     "execution_count": 31,
     "metadata": {},
     "output_type": "execute_result"
    }
   ],
   "source": [
    "x=neo_data['SEVERITYCODE']\n",
    "y=neo_data['SEVERITYCODE']\n",
    "\n",
    "x=x.values.reshape(-1,1)\n",
    "y=y.values.reshape(-1,1)\n",
    "\n",
    "x_train, x_test, y_train, y_test= TTS(x,y,random_state=0)\n",
    "\n",
    "LinR = LM.LinearRegression()\n",
    "\n",
    "fitted_model1=LinR.fit(x_train,y_train)\n",
    "\n",
    "fitted_model1.score(x_test, y_test)"
   ]
  },
  {
   "cell_type": "code",
   "execution_count": 32,
   "metadata": {},
   "outputs": [
    {
     "name": "stderr",
     "output_type": "stream",
     "text": [
      "/Library/Frameworks/Python.framework/Versions/3.7/lib/python3.7/site-packages/sklearn/utils/validation.py:72: DataConversionWarning: A column-vector y was passed when a 1d array was expected. Please change the shape of y to (n_samples, ), for example using ravel().\n",
      "  return f(**kwargs)\n"
     ]
    },
    {
     "data": {
      "text/plain": [
       "1.0"
      ]
     },
     "execution_count": 32,
     "metadata": {},
     "output_type": "execute_result"
    }
   ],
   "source": [
    "X=neo_data['SEVERITYCODE']\n",
    "Y=neo_data['SEVERITYCODE']\n",
    "\n",
    "X=X.values.reshape(-1,1)\n",
    "Y=Y.values.reshape(-1,1)\n",
    "\n",
    "X_train, X_test, Y_train, Y_test= TTS(X,Y,random_state=0)\n",
    "\n",
    "LogR = LM.LogisticRegression()\n",
    "\n",
    "fitted_model2=LogR.fit(X_train,Y_train)\n",
    "\n",
    "fitted_model2.score(X_test, Y_test)"
   ]
  },
  {
   "cell_type": "code",
   "execution_count": null,
   "metadata": {},
   "outputs": [],
   "source": []
  },
  {
   "cell_type": "code",
   "execution_count": null,
   "metadata": {},
   "outputs": [],
   "source": []
  }
 ],
 "metadata": {
  "kernelspec": {
   "display_name": "Python 3",
   "language": "python",
   "name": "python3"
  },
  "language_info": {
   "codemirror_mode": {
    "name": "ipython",
    "version": 3
   },
   "file_extension": ".py",
   "mimetype": "text/x-python",
   "name": "python",
   "nbconvert_exporter": "python",
   "pygments_lexer": "ipython3",
   "version": "3.7.2"
  }
 },
 "nbformat": 4,
 "nbformat_minor": 2
}
