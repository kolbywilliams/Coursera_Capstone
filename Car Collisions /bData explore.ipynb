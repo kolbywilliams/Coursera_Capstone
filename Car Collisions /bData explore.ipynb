{
 "cells": [
  {
   "cell_type": "code",
   "execution_count": 1,
   "metadata": {},
   "outputs": [
    {
     "name": "stderr",
     "output_type": "stream",
     "text": [
      "/Library/Frameworks/Python.framework/Versions/3.7/lib/python3.7/site-packages/IPython/core/interactiveshell.py:3072: DtypeWarning: Columns (33) have mixed types.Specify dtype option on import or set low_memory=False.\n",
      "  interactivity=interactivity, compiler=compiler, result=result)\n"
     ]
    }
   ],
   "source": [
    "import pandas as pd \n",
    "data = pd.read_csv(r'/Users/kolbywilliams/Downloads/Data-Collisions.csv')"
   ]
  },
  {
   "cell_type": "code",
   "execution_count": 2,
   "metadata": {},
   "outputs": [
    {
     "data": {
      "text/html": [
       "<div>\n",
       "<style scoped>\n",
       "    .dataframe tbody tr th:only-of-type {\n",
       "        vertical-align: middle;\n",
       "    }\n",
       "\n",
       "    .dataframe tbody tr th {\n",
       "        vertical-align: top;\n",
       "    }\n",
       "\n",
       "    .dataframe thead th {\n",
       "        text-align: right;\n",
       "    }\n",
       "</style>\n",
       "<table border=\"1\" class=\"dataframe\">\n",
       "  <thead>\n",
       "    <tr style=\"text-align: right;\">\n",
       "      <th></th>\n",
       "      <th>count</th>\n",
       "      <th>mean</th>\n",
       "      <th>std</th>\n",
       "      <th>min</th>\n",
       "      <th>25%</th>\n",
       "      <th>50%</th>\n",
       "      <th>75%</th>\n",
       "      <th>max</th>\n",
       "    </tr>\n",
       "  </thead>\n",
       "  <tbody>\n",
       "    <tr>\n",
       "      <th>SEVERITYCODE</th>\n",
       "      <td>194673.0</td>\n",
       "      <td>1.298901e+00</td>\n",
       "      <td>4.577776e-01</td>\n",
       "      <td>1.000000e+00</td>\n",
       "      <td>1.000000e+00</td>\n",
       "      <td>1.000000e+00</td>\n",
       "      <td>2.000000e+00</td>\n",
       "      <td>2.000000e+00</td>\n",
       "    </tr>\n",
       "    <tr>\n",
       "      <th>X</th>\n",
       "      <td>189339.0</td>\n",
       "      <td>-1.223305e+02</td>\n",
       "      <td>2.997605e-02</td>\n",
       "      <td>-1.224191e+02</td>\n",
       "      <td>-1.223487e+02</td>\n",
       "      <td>-1.223302e+02</td>\n",
       "      <td>-1.223119e+02</td>\n",
       "      <td>-1.222389e+02</td>\n",
       "    </tr>\n",
       "    <tr>\n",
       "      <th>Y</th>\n",
       "      <td>189339.0</td>\n",
       "      <td>4.761954e+01</td>\n",
       "      <td>5.615664e-02</td>\n",
       "      <td>4.749557e+01</td>\n",
       "      <td>4.757596e+01</td>\n",
       "      <td>4.761537e+01</td>\n",
       "      <td>4.766366e+01</td>\n",
       "      <td>4.773414e+01</td>\n",
       "    </tr>\n",
       "    <tr>\n",
       "      <th>OBJECTID</th>\n",
       "      <td>194673.0</td>\n",
       "      <td>1.084794e+05</td>\n",
       "      <td>6.264972e+04</td>\n",
       "      <td>1.000000e+00</td>\n",
       "      <td>5.426700e+04</td>\n",
       "      <td>1.069120e+05</td>\n",
       "      <td>1.622720e+05</td>\n",
       "      <td>2.195470e+05</td>\n",
       "    </tr>\n",
       "    <tr>\n",
       "      <th>INCKEY</th>\n",
       "      <td>194673.0</td>\n",
       "      <td>1.410915e+05</td>\n",
       "      <td>8.663440e+04</td>\n",
       "      <td>1.001000e+03</td>\n",
       "      <td>7.038300e+04</td>\n",
       "      <td>1.233630e+05</td>\n",
       "      <td>2.033190e+05</td>\n",
       "      <td>3.314540e+05</td>\n",
       "    </tr>\n",
       "    <tr>\n",
       "      <th>COLDETKEY</th>\n",
       "      <td>194673.0</td>\n",
       "      <td>1.412988e+05</td>\n",
       "      <td>8.698654e+04</td>\n",
       "      <td>1.001000e+03</td>\n",
       "      <td>7.038300e+04</td>\n",
       "      <td>1.233630e+05</td>\n",
       "      <td>2.034590e+05</td>\n",
       "      <td>3.329540e+05</td>\n",
       "    </tr>\n",
       "    <tr>\n",
       "      <th>INTKEY</th>\n",
       "      <td>65070.0</td>\n",
       "      <td>3.755845e+04</td>\n",
       "      <td>5.174599e+04</td>\n",
       "      <td>2.380700e+04</td>\n",
       "      <td>2.866700e+04</td>\n",
       "      <td>2.997300e+04</td>\n",
       "      <td>3.397300e+04</td>\n",
       "      <td>7.575800e+05</td>\n",
       "    </tr>\n",
       "    <tr>\n",
       "      <th>SEVERITYCODE.1</th>\n",
       "      <td>194673.0</td>\n",
       "      <td>1.298901e+00</td>\n",
       "      <td>4.577776e-01</td>\n",
       "      <td>1.000000e+00</td>\n",
       "      <td>1.000000e+00</td>\n",
       "      <td>1.000000e+00</td>\n",
       "      <td>2.000000e+00</td>\n",
       "      <td>2.000000e+00</td>\n",
       "    </tr>\n",
       "    <tr>\n",
       "      <th>PERSONCOUNT</th>\n",
       "      <td>194673.0</td>\n",
       "      <td>2.444427e+00</td>\n",
       "      <td>1.345929e+00</td>\n",
       "      <td>0.000000e+00</td>\n",
       "      <td>2.000000e+00</td>\n",
       "      <td>2.000000e+00</td>\n",
       "      <td>3.000000e+00</td>\n",
       "      <td>8.100000e+01</td>\n",
       "    </tr>\n",
       "    <tr>\n",
       "      <th>PEDCOUNT</th>\n",
       "      <td>194673.0</td>\n",
       "      <td>3.713920e-02</td>\n",
       "      <td>1.981499e-01</td>\n",
       "      <td>0.000000e+00</td>\n",
       "      <td>0.000000e+00</td>\n",
       "      <td>0.000000e+00</td>\n",
       "      <td>0.000000e+00</td>\n",
       "      <td>6.000000e+00</td>\n",
       "    </tr>\n",
       "    <tr>\n",
       "      <th>PEDCYLCOUNT</th>\n",
       "      <td>194673.0</td>\n",
       "      <td>2.839120e-02</td>\n",
       "      <td>1.674128e-01</td>\n",
       "      <td>0.000000e+00</td>\n",
       "      <td>0.000000e+00</td>\n",
       "      <td>0.000000e+00</td>\n",
       "      <td>0.000000e+00</td>\n",
       "      <td>2.000000e+00</td>\n",
       "    </tr>\n",
       "    <tr>\n",
       "      <th>VEHCOUNT</th>\n",
       "      <td>194673.0</td>\n",
       "      <td>1.920780e+00</td>\n",
       "      <td>6.310467e-01</td>\n",
       "      <td>0.000000e+00</td>\n",
       "      <td>2.000000e+00</td>\n",
       "      <td>2.000000e+00</td>\n",
       "      <td>2.000000e+00</td>\n",
       "      <td>1.200000e+01</td>\n",
       "    </tr>\n",
       "    <tr>\n",
       "      <th>SDOT_COLCODE</th>\n",
       "      <td>194673.0</td>\n",
       "      <td>1.386777e+01</td>\n",
       "      <td>6.868755e+00</td>\n",
       "      <td>0.000000e+00</td>\n",
       "      <td>1.100000e+01</td>\n",
       "      <td>1.300000e+01</td>\n",
       "      <td>1.400000e+01</td>\n",
       "      <td>6.900000e+01</td>\n",
       "    </tr>\n",
       "    <tr>\n",
       "      <th>SDOTCOLNUM</th>\n",
       "      <td>114936.0</td>\n",
       "      <td>7.972521e+06</td>\n",
       "      <td>2.553533e+06</td>\n",
       "      <td>1.007024e+06</td>\n",
       "      <td>6.040015e+06</td>\n",
       "      <td>8.023022e+06</td>\n",
       "      <td>1.015501e+07</td>\n",
       "      <td>1.307202e+07</td>\n",
       "    </tr>\n",
       "    <tr>\n",
       "      <th>SEGLANEKEY</th>\n",
       "      <td>194673.0</td>\n",
       "      <td>2.694011e+02</td>\n",
       "      <td>3.315776e+03</td>\n",
       "      <td>0.000000e+00</td>\n",
       "      <td>0.000000e+00</td>\n",
       "      <td>0.000000e+00</td>\n",
       "      <td>0.000000e+00</td>\n",
       "      <td>5.252410e+05</td>\n",
       "    </tr>\n",
       "    <tr>\n",
       "      <th>CROSSWALKKEY</th>\n",
       "      <td>194673.0</td>\n",
       "      <td>9.782452e+03</td>\n",
       "      <td>7.226926e+04</td>\n",
       "      <td>0.000000e+00</td>\n",
       "      <td>0.000000e+00</td>\n",
       "      <td>0.000000e+00</td>\n",
       "      <td>0.000000e+00</td>\n",
       "      <td>5.239700e+06</td>\n",
       "    </tr>\n",
       "  </tbody>\n",
       "</table>\n",
       "</div>"
      ],
      "text/plain": [
       "                   count          mean           std           min  \\\n",
       "SEVERITYCODE    194673.0  1.298901e+00  4.577776e-01  1.000000e+00   \n",
       "X               189339.0 -1.223305e+02  2.997605e-02 -1.224191e+02   \n",
       "Y               189339.0  4.761954e+01  5.615664e-02  4.749557e+01   \n",
       "OBJECTID        194673.0  1.084794e+05  6.264972e+04  1.000000e+00   \n",
       "INCKEY          194673.0  1.410915e+05  8.663440e+04  1.001000e+03   \n",
       "COLDETKEY       194673.0  1.412988e+05  8.698654e+04  1.001000e+03   \n",
       "INTKEY           65070.0  3.755845e+04  5.174599e+04  2.380700e+04   \n",
       "SEVERITYCODE.1  194673.0  1.298901e+00  4.577776e-01  1.000000e+00   \n",
       "PERSONCOUNT     194673.0  2.444427e+00  1.345929e+00  0.000000e+00   \n",
       "PEDCOUNT        194673.0  3.713920e-02  1.981499e-01  0.000000e+00   \n",
       "PEDCYLCOUNT     194673.0  2.839120e-02  1.674128e-01  0.000000e+00   \n",
       "VEHCOUNT        194673.0  1.920780e+00  6.310467e-01  0.000000e+00   \n",
       "SDOT_COLCODE    194673.0  1.386777e+01  6.868755e+00  0.000000e+00   \n",
       "SDOTCOLNUM      114936.0  7.972521e+06  2.553533e+06  1.007024e+06   \n",
       "SEGLANEKEY      194673.0  2.694011e+02  3.315776e+03  0.000000e+00   \n",
       "CROSSWALKKEY    194673.0  9.782452e+03  7.226926e+04  0.000000e+00   \n",
       "\n",
       "                         25%           50%           75%           max  \n",
       "SEVERITYCODE    1.000000e+00  1.000000e+00  2.000000e+00  2.000000e+00  \n",
       "X              -1.223487e+02 -1.223302e+02 -1.223119e+02 -1.222389e+02  \n",
       "Y               4.757596e+01  4.761537e+01  4.766366e+01  4.773414e+01  \n",
       "OBJECTID        5.426700e+04  1.069120e+05  1.622720e+05  2.195470e+05  \n",
       "INCKEY          7.038300e+04  1.233630e+05  2.033190e+05  3.314540e+05  \n",
       "COLDETKEY       7.038300e+04  1.233630e+05  2.034590e+05  3.329540e+05  \n",
       "INTKEY          2.866700e+04  2.997300e+04  3.397300e+04  7.575800e+05  \n",
       "SEVERITYCODE.1  1.000000e+00  1.000000e+00  2.000000e+00  2.000000e+00  \n",
       "PERSONCOUNT     2.000000e+00  2.000000e+00  3.000000e+00  8.100000e+01  \n",
       "PEDCOUNT        0.000000e+00  0.000000e+00  0.000000e+00  6.000000e+00  \n",
       "PEDCYLCOUNT     0.000000e+00  0.000000e+00  0.000000e+00  2.000000e+00  \n",
       "VEHCOUNT        2.000000e+00  2.000000e+00  2.000000e+00  1.200000e+01  \n",
       "SDOT_COLCODE    1.100000e+01  1.300000e+01  1.400000e+01  6.900000e+01  \n",
       "SDOTCOLNUM      6.040015e+06  8.023022e+06  1.015501e+07  1.307202e+07  \n",
       "SEGLANEKEY      0.000000e+00  0.000000e+00  0.000000e+00  5.252410e+05  \n",
       "CROSSWALKKEY    0.000000e+00  0.000000e+00  0.000000e+00  5.239700e+06  "
      ]
     },
     "execution_count": 2,
     "metadata": {},
     "output_type": "execute_result"
    }
   ],
   "source": [
    "data.describe().transpose()"
   ]
  },
  {
   "cell_type": "code",
   "execution_count": 3,
   "metadata": {},
   "outputs": [
    {
     "name": "stdout",
     "output_type": "stream",
     "text": [
      "<class 'pandas.core.frame.DataFrame'>\n",
      "RangeIndex: 194673 entries, 0 to 194672\n",
      "Data columns (total 38 columns):\n",
      " #   Column          Non-Null Count   Dtype  \n",
      "---  ------          --------------   -----  \n",
      " 0   SEVERITYCODE    194673 non-null  int64  \n",
      " 1   X               189339 non-null  float64\n",
      " 2   Y               189339 non-null  float64\n",
      " 3   OBJECTID        194673 non-null  int64  \n",
      " 4   INCKEY          194673 non-null  int64  \n",
      " 5   COLDETKEY       194673 non-null  int64  \n",
      " 6   REPORTNO        194673 non-null  object \n",
      " 7   STATUS          194673 non-null  object \n",
      " 8   ADDRTYPE        192747 non-null  object \n",
      " 9   INTKEY          65070 non-null   float64\n",
      " 10  LOCATION        191996 non-null  object \n",
      " 11  EXCEPTRSNCODE   84811 non-null   object \n",
      " 12  EXCEPTRSNDESC   5638 non-null    object \n",
      " 13  SEVERITYCODE.1  194673 non-null  int64  \n",
      " 14  SEVERITYDESC    194673 non-null  object \n",
      " 15  COLLISIONTYPE   189769 non-null  object \n",
      " 16  PERSONCOUNT     194673 non-null  int64  \n",
      " 17  PEDCOUNT        194673 non-null  int64  \n",
      " 18  PEDCYLCOUNT     194673 non-null  int64  \n",
      " 19  VEHCOUNT        194673 non-null  int64  \n",
      " 20  INCDATE         194673 non-null  object \n",
      " 21  INCDTTM         194673 non-null  object \n",
      " 22  JUNCTIONTYPE    188344 non-null  object \n",
      " 23  SDOT_COLCODE    194673 non-null  int64  \n",
      " 24  SDOT_COLDESC    194673 non-null  object \n",
      " 25  INATTENTIONIND  29805 non-null   object \n",
      " 26  UNDERINFL       189789 non-null  object \n",
      " 27  WEATHER         189592 non-null  object \n",
      " 28  ROADCOND        189661 non-null  object \n",
      " 29  LIGHTCOND       189503 non-null  object \n",
      " 30  PEDROWNOTGRNT   4667 non-null    object \n",
      " 31  SDOTCOLNUM      114936 non-null  float64\n",
      " 32  SPEEDING        9333 non-null    object \n",
      " 33  ST_COLCODE      194655 non-null  object \n",
      " 34  ST_COLDESC      189769 non-null  object \n",
      " 35  SEGLANEKEY      194673 non-null  int64  \n",
      " 36  CROSSWALKKEY    194673 non-null  int64  \n",
      " 37  HITPARKEDCAR    194673 non-null  object \n",
      "dtypes: float64(4), int64(12), object(22)\n",
      "memory usage: 56.4+ MB\n"
     ]
    }
   ],
   "source": [
    "data.info()"
   ]
  },
  {
   "cell_type": "code",
   "execution_count": 4,
   "metadata": {},
   "outputs": [
    {
     "data": {
      "text/plain": [
       "array(['Intersection', 'Block', 'Alley', nan], dtype=object)"
      ]
     },
     "execution_count": 4,
     "metadata": {},
     "output_type": "execute_result"
    }
   ],
   "source": [
    "data['ADDRTYPE'].unique()\n"
   ]
  },
  {
   "cell_type": "code",
   "execution_count": 6,
   "metadata": {},
   "outputs": [
    {
     "data": {
      "image/png": "[encoded data removed]",
      "text/plain": [
       "<Figure size 432x288 with 1 Axes>"
      ]
     },
     "metadata": {
      "needs_background": "light"
     },
     "output_type": "display_data"
    }
   ],
   "source": [
    "import matplotlib.pyplot as plt\n",
    "plt.hist(data['SEVERITYCODE'],bins=2)\n",
    "plt.show()"
   ]
  },
  {
   "cell_type": "code",
   "execution_count": 7,
   "metadata": {},
   "outputs": [
    {
     "data": {
      "image/png": "[encoded data removed]",
      "text/plain": [
       "<Figure size 432x288 with 1 Axes>"
      ]
     },
     "metadata": {
      "needs_background": "light"
     },
     "output_type": "display_data"
    }
   ],
   "source": [
    "plt.hist(data['STATUS'])\n",
    "plt.show()"
   ]
  },
  {
   "cell_type": "code",
   "execution_count": null,
   "metadata": {},
   "outputs": [],
   "source": []
  }
 ],
 "metadata": {
  "kernelspec": {
   "display_name": "Python 3",
   "language": "python",
   "name": "python3"
  },
  "language_info": {
   "codemirror_mode": {
    "name": "ipython",
    "version": 3
   },
   "file_extension": ".py",
   "mimetype": "text/x-python",
   "name": "python",
   "nbconvert_exporter": "python",
   "pygments_lexer": "ipython3",
   "version": "3.7.2"
  }
 },
 "nbformat": 4,
 "nbformat_minor": 2
}
