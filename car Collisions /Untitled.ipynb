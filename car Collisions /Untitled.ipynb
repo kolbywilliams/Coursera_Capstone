{
 "cells": [
  {
   "cell_type": "markdown",
   "metadata": {},
   "source": [
    "Business Problem (Intro) "
   ]
  },
  {
   "cell_type": "markdown",
   "metadata": {},
   "source": [
    "    This will be an analysis of car accidents in Settale city.  In order to prefrom this analysis, the shared dataset will be used. The main objective of this is to identify the features that Result in high and low severities.  These will be important factors to understand what contributes to the lethal and non-leathal features within the dataset. Afterwards data for the highly dangerous features that result in a lethal out come will be presented and the features that result in a non-lethal out come will be presented as well."
   ]
  },
  {
   "cell_type": "markdown",
   "metadata": {},
   "source": [
    "Data"
   ]
  },
  {
   "cell_type": "markdown",
   "metadata": {},
   "source": [
    "    The Data that will be used for this analysis will be the shared dataset supplied from the course. The major features that will be used are: \n",
    "      -Severity code (Target Feature),\n",
    "      -address type, \n",
    "      -location,  \n",
    "      -Collision type, \n",
    "      -person count, \n",
    "      -Pedestrian count, \n",
    "      -Pedestrian vehicle count, \n",
    "      -incident time and Date, \n",
    "      -under the influence indicator, \n",
    "      -weather, \n",
    "      -Road condition, \n",
    "      -and light conditions.\n",
    "  \n",
    "    For the analysis, the data will be cleansed, analyzed, hypothesis verified, and concluded with a list of the top lethal and non lethal feature columns.  A regression analysis on which the serverity code will be compared to each Feature column (Severity code vs address type/ location). This will reveal features that have a high Postive correlation,  Features with high negtaive corelation, or those with no correlation.  \n"
   ]
  },
  {
   "cell_type": "code",
   "execution_count": 1,
   "metadata": {},
   "outputs": [
    {
     "name": "stderr",
     "output_type": "stream",
     "text": [
      "/Library/Frameworks/Python.framework/Versions/3.7/lib/python3.7/site-packages/IPython/core/interactiveshell.py:3072: DtypeWarning: Columns (33) have mixed types.Specify dtype option on import or set low_memory=False.\n",
      "  interactivity=interactivity, compiler=compiler, result=result)\n"
     ]
    }
   ],
   "source": [
    "import pandas as pd \n",
    "data = pd.read_csv(r'/Users/kolbywilliams/Downloads/Data-Collisions.csv')"
   ]
  },
  {
   "cell_type": "code",
   "execution_count": null,
   "metadata": {},
   "outputs": [],
   "source": []
  }
 ],
 "metadata": {
  "kernelspec": {
   "display_name": "Python 3",
   "language": "python",
   "name": "python3"
  },
  "language_info": {
   "codemirror_mode": {
    "name": "ipython",
    "version": 3
   },
   "file_extension": ".py",
   "mimetype": "text/x-python",
   "name": "python",
   "nbconvert_exporter": "python",
   "pygments_lexer": "ipython3",
   "version": "3.7.2"
  }
 },
 "nbformat": 4,
 "nbformat_minor": 2
}
