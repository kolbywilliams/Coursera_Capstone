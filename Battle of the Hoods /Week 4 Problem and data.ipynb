{
 "cells": [
  {
   "cell_type": "markdown",
   "metadata": {},
   "source": [
    "Problem:\n",
    "\n",
    "    Choosing a venus to establish a new coffee shop can be overwelhming.  The key in identifying were to set up   business like this is location. The area needs to be centered nearby  people an area that is safe with high foot traffic.  What this project will be focused on advising a small family that would like to establish a new coffee shop in MA. The coffee shops main customer will local students, professionals, and families. Their main products are selling books form local authors, hosting events and they  small meals for breakfeast and lunches(similar to a small Barnes and Noble).  \n"
   ]
  },
  {
   "cell_type": "markdown",
   "metadata": {},
   "source": [
    "Data:\n",
    "   The data that will be will be from  Foursquare collectingthe trending streets and business service infromation in MA. The evalutaiton method will be to use Kmeans Clustering to identify which business services trend for specific areas. Coffee Shops trenfin  Coffee shops will be compared to untrending business "
   ]
  },
  {
   "cell_type": "code",
   "execution_count": null,
   "metadata": {},
   "outputs": [],
   "source": []
  },
  {
   "cell_type": "code",
   "execution_count": null,
   "metadata": {},
   "outputs": [],
   "source": []
  }
 ],
 "metadata": {
  "kernelspec": {
   "display_name": "Python 3",
   "language": "python",
   "name": "python3"
  },
  "language_info": {
   "codemirror_mode": {
    "name": "ipython",
    "version": 3
   },
   "file_extension": ".py",
   "mimetype": "text/x-python",
   "name": "python",
   "nbconvert_exporter": "python",
   "pygments_lexer": "ipython3",
   "version": "3.9.0"
  }
 },
 "nbformat": 4,
 "nbformat_minor": 4
}
