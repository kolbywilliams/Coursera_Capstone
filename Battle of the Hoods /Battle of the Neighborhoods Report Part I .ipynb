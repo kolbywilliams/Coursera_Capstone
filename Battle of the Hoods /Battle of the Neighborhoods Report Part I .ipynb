{
 "cells": [
  {
   "cell_type": "code",
   "execution_count": 4,
   "metadata": {},
   "outputs": [],
   "source": [
    "url = 'https://api.foursquare.com/v2/venues/'\n",
    "    "
   ]
  },
  {
   "cell_type": "code",
   "execution_count": 2,
   "metadata": {},
   "outputs": [],
   "source": [
    "CLIENTID='0S2ASS33PTZBLD4ITGCF54KLHLRTQ3D2EOT4G12HRZQKP2VE'\n",
    "CLIENTSECRET='1QACGARRZHJDEE3ZMPGQYPGMCYF2AAUWRVGVBIW0WXPSDUCG'\n",
    "v=20201017"
   ]
  },
  {
   "cell_type": "markdown",
   "metadata": {},
   "source": [
    "Intro\n",
    "\n",
    "    Finding a good venue is very hard for any new business to find a prime location.  A business coming to a new area needs to understand the demographics in an effort to poperly intergrated into to the neighborhood.  An assumption  that can be made is that, certian services will be better equiped to  service certain communities.  For example, a coffee shop in a college town near the colleges would better serve the immediate population within the area.   This is due to the fact that you have alot of indivduals with disposible income in as small area that value coffee, and the enivornment that coffee shopes tend to  attract. This would be contrasted with a rural area with a spread out population. Given this assumption there two of the biggest things to consider when opening a restaurant, cafe, or casual meeting place, which are locations with high foot traffic and a high potential of disposalbe income. "
   ]
  },
  {
   "cell_type": "markdown",
   "metadata": {},
   "source": [
    "Data\n",
    "\n",
    "    The data that we will is the foursquare API to gather the possible Geo-spatial data, and a wikipedia page that will hold "
   ]
  },
  {
   "cell_type": "markdown",
   "metadata": {},
   "source": [
    "Methodology"
   ]
  },
  {
   "cell_type": "markdown",
   "metadata": {},
   "source": [
    "Results"
   ]
  },
  {
   "cell_type": "markdown",
   "metadata": {},
   "source": [
    "Discussion"
   ]
  },
  {
   "cell_type": "markdown",
   "metadata": {},
   "source": [
    "Conclusion"
   ]
  },
  {
   "cell_type": "code",
   "execution_count": null,
   "metadata": {},
   "outputs": [],
   "source": []
  }
 ],
 "metadata": {
  "kernelspec": {
   "display_name": "Python 3",
   "language": "python",
   "name": "python3"
  },
  "language_info": {
   "codemirror_mode": {
    "name": "ipython",
    "version": 3
   },
   "file_extension": ".py",
   "mimetype": "text/x-python",
   "name": "python",
   "nbconvert_exporter": "python",
   "pygments_lexer": "ipython3",
   "version": "3.7.2"
  }
 },
 "nbformat": 4,
 "nbformat_minor": 2
}
